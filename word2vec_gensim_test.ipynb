{
 "cells": [
  {
   "cell_type": "code",
   "execution_count": 9,
   "metadata": {
    "collapsed": false
   },
   "outputs": [
    {
     "name": "stdout",
     "output_type": "stream",
     "text": [
      "Loading file ./reddit_data_MH/2014/RC_2014-01\n",
      "Loading file ./reddit_data_MH/2014/RC_2014-02\n",
      "Loading file ./reddit_data_MH/2014/RC_2014-03\n",
      "Loading file ./reddit_data_MH/2014/RC_2014-04\n",
      "Loading file ./reddit_data_MH/2014/RC_2014-05\n",
      "Loading file ./reddit_data_MH/2014/RC_2014-06\n",
      "Loading file ./reddit_data_MH/2014/RC_2014-07\n",
      "Loading file ./reddit_data_MH/2014/RC_2014-08\n",
      "Loading file ./reddit_data_MH/2014/RC_2014-09\n",
      "Loading file ./reddit_data_MH/2014/RC_2014-10\n",
      "Loading file ./reddit_data_MH/2014/RC_2014-11\n",
      "Loading file ./reddit_data_MH/2014/RC_2014-12\n",
      "Loading file ./reddit_data_MH/2015/RC_2015-01\n",
      "Loading file ./reddit_data_MH/2015/RC_2015-02\n",
      "Loading file ./reddit_data_MH/2015/RC_2015-03\n",
      "Loading file ./reddit_data_MH/2015/RC_2015-04\n",
      "Loading file ./reddit_data_MH/2015/RC_2015-05\n",
      "File Loaded\n",
      "2016-07-27 12:33:47.993411\n",
      "Train started\n",
      "2016-07-27 12:33:47.993538\n",
      "finished\n",
      "2016-07-27 12:53:18.322026\n"
     ]
    }
   ],
   "source": [
    "from datetime import datetime\n",
    "from load_data import *\n",
    "from gensim.models import Word2Vec\n",
    "\n",
    "# Load list[list[str]], which is a list of sentence, \n",
    "# and the sentence consists of words as list. \n",
    "data_dir = './reddit_data_MH'\n",
    "sentences = load_sentences(data_dir)\n",
    "print('File Loaded')\n",
    "print(datetime.now())\n",
    "\n",
    "print('Train started')\n",
    "print(datetime.now())\n",
    "model = Word2Vec(sentences, min_count=20, size=200, workers=2)\n",
    "print('finished')\n",
    "print(datetime.now())"
   ]
  },
  {
   "cell_type": "code",
   "execution_count": 11,
   "metadata": {
    "collapsed": false
   },
   "outputs": [
    {
     "data": {
      "text/plain": [
       "[(u'neurological', 0.7637670040130615),\n",
       " (u'physiological', 0.7532145977020264),\n",
       " (u'physical', 0.6974667310714722),\n",
       " (u'mental', 0.6904682517051697),\n",
       " (u'biochemical', 0.6357117891311646),\n",
       " (u'psychosocial', 0.6341227889060974),\n",
       " (u'neurobiological', 0.6216453313827515),\n",
       " (u'developmental', 0.6003662347793579),\n",
       " (u'emotional', 0.595892071723938),\n",
       " (u'psychosomatic', 0.5950469374656677)]"
      ]
     },
     "execution_count": 11,
     "metadata": {},
     "output_type": "execute_result"
    }
   ],
   "source": [
    "model.most_similar(positive=['psychological'], topn=10)"
   ]
  },
  {
   "cell_type": "code",
   "execution_count": null,
   "metadata": {
    "collapsed": true
   },
   "outputs": [],
   "source": [
    ""
   ]
  }
 ],
 "metadata": {
  "anaconda-cloud": {},
  "kernelspec": {
   "display_name": "Python [Root]",
   "language": "python",
   "name": "Python [Root]"
  },
  "language_info": {
   "codemirror_mode": {
    "name": "ipython",
    "version": 2.0
   },
   "file_extension": ".py",
   "mimetype": "text/x-python",
   "name": "python",
   "nbconvert_exporter": "python",
   "pygments_lexer": "ipython2",
   "version": "2.7.12"
  }
 },
 "nbformat": 4,
 "nbformat_minor": 0
}
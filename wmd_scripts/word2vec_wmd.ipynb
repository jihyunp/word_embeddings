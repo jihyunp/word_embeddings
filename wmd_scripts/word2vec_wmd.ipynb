{
 "cells": [
  {
   "cell_type": "code",
   "execution_count": 1,
   "metadata": {
    "collapsed": false
   },
   "outputs": [
    {
     "name": "stdout",
     "output_type": "stream",
     "text": [
      "Took 20.00 seconds to run.\n"
     ]
    }
   ],
   "source": [
    "# Load w2v vectors\n",
    "from datetime import datetime\n",
    "\n",
    "t1 = datetime.now()\n",
    "from gensim.models import Word2Vec\n",
    "w2v_file = '/extra/jihyunp0/research/word_embeddings/result/gensim_word2vec_2008_2015.vectors'\n",
    "model = Word2Vec.load_word2vec_format(w2v_file, binary=False)\n",
    "print('Took %.2f seconds to run.' % (datetime.now()-t1).seconds)"
   ]
  },
  {
   "cell_type": "code",
   "execution_count": 2,
   "metadata": {
    "collapsed": false,
    "scrolled": true
   },
   "outputs": [
    {
     "name": "stdout",
     "output_type": "stream",
     "text": [
      "\n",
      "--- 10 most similar words of 'depression' ---\n",
      "ptsd : 0.733503580093\n",
      "depressions : 0.69059407711\n",
      "anxiety : 0.688572108746\n",
      "dpdr : 0.687903940678\n",
      "agoraphobia : 0.681314766407\n",
      "ocd : 0.67572081089\n",
      "psychosis : 0.672934293747\n",
      "sa : 0.672464609146\n",
      "hypochondria : 0.662337601185\n",
      "dysthymia : 0.658888399601\n",
      "\n",
      "--- 10 most similar words of 'suicide' ---\n",
      "sucide : 0.755042433739\n",
      "suicde : 0.693866610527\n",
      "homicide : 0.584131836891\n",
      "seppuku : 0.582782149315\n",
      "suicidal : 0.577819347382\n",
      "self-harm : 0.574064493179\n",
      "arson : 0.570833444595\n",
      "adultery : 0.564580917358\n",
      "suicides : 0.549126923084\n",
      "murder : 0.532909333706\n",
      "\n",
      "--- 10 most similar words of 'bad' ---\n",
      "terrible : 0.76926022768\n",
      "horrible : 0.737914979458\n",
      "shitty : 0.732162892818\n",
      "crappy : 0.671005308628\n",
      "horrid : 0.61749368906\n",
      "good : 0.617080688477\n",
      "awful : 0.616502344608\n",
      "lousy : 0.60147446394\n",
      "weird : 0.60024946928\n",
      "sucky : 0.598902523518\n",
      "\n",
      "--- 10 most similar words of 'adhd' ---\n",
      "autism : 0.760252296925\n",
      "bpd : 0.75602543354\n",
      "schizophrenia : 0.737475216389\n",
      "asd : 0.722988128662\n",
      "bipolar : 0.702679276466\n",
      "adhd-pi : 0.699895322323\n",
      "aspergers : 0.689091384411\n",
      "spd : 0.675639808178\n",
      "ocd : 0.672325134277\n",
      "a.d.h.d : 0.658548593521\n",
      "\n",
      "--- 10 most similar words of 'psychologist' ---\n",
      "psychiatrist : 0.940009832382\n",
      "therapist : 0.930605709553\n",
      "counselor : 0.87771821022\n",
      "counsellor : 0.868955433369\n",
      "psychotherapist : 0.86665803194\n",
      "shrink : 0.838451683521\n",
      "neurologist : 0.831784188747\n",
      "gp : 0.829577207565\n",
      "doctor : 0.82133603096\n",
      "nutritionist : 0.815799236298\n",
      "\n",
      "--- 10 most similar words of 'meditation' ---\n",
      "mediation : 0.906673550606\n",
      "mindfulness : 0.853099286556\n",
      "vipassana : 0.794611155987\n",
      "samatha : 0.748933911324\n",
      "zazen : 0.746152162552\n",
      "practice : 0.743719518185\n",
      "mindfullness : 0.735777318478\n",
      "meditative : 0.729276239872\n",
      "pranayama : 0.72475540638\n",
      "metta : 0.720420658588\n",
      "\n",
      "--- 10 most similar words of 'medication' ---\n",
      "meds : 0.879324615002\n",
      "medicine : 0.865195930004\n",
      "anti-depressants : 0.804259836674\n",
      "medications : 0.798584997654\n",
      "antidepressants : 0.781151413918\n",
      "med : 0.74738663435\n",
      "lithium : 0.700610220432\n",
      "med's : 0.698898077011\n",
      "prozac : 0.698012650013\n",
      "adderall : 0.697742938995\n"
     ]
    }
   ],
   "source": [
    "# Print the most similar words using the loaded vectors\n",
    "\n",
    "def print_most_similar_words(word, N=10):\n",
    "    print(\"\\n--- \" + str(N) + \" most similar words of '\"+ word +\"' ---\" )\n",
    "    res = model.most_similar(positive=[word], topn=N)\n",
    "    for item in res:\n",
    "        print(item[0]+ ' : ' + str(item[1]))\n",
    "\n",
    "print_most_similar_words('depression')\n",
    "print_most_similar_words('suicide')\n",
    "print_most_similar_words('bad')\n",
    "print_most_similar_words('adhd')\n",
    "print_most_similar_words('psychologist')\n",
    "print_most_similar_words('meditation')\n",
    "print_most_similar_words('medication')"
   ]
  },
  {
   "cell_type": "code",
   "execution_count": 5,
   "metadata": {
    "collapsed": false
   },
   "outputs": [
    {
     "name": "stdout",
     "output_type": "stream",
     "text": [
      "Loading file /extra/jihyunp0/research/word_embeddings/data/reddit_data_MH_subset/2015/RC_2015-01\n",
      "Loaded\n"
     ]
    }
   ],
   "source": [
    "from datetime import datetime\n",
    "from sklearn.metrics import mutual_info_score\n",
    "from sklearn.feature_extraction.text import CountVectorizer\n",
    "from load_data import *\n",
    "\n",
    "sttime = datetime.now()\n",
    "\n",
    "data_dir = '/extra/jihyunp0/research/word_embeddings/data/reddit_data_MH_subset'\n",
    "sentences = load_sentences(data_dir)\n",
    "print('Loaded')"
   ]
  },
  {
   "cell_type": "code",
   "execution_count": 9,
   "metadata": {
    "collapsed": false
   },
   "outputs": [
    {
     "name": "stdout",
     "output_type": "stream",
     "text": [
      "/extra/jihyunp0/research/word_embeddings/data/reddit_data_MH_subset/2015/RC_2015-01\n",
      "Loaded\n"
     ]
    }
   ],
   "source": [
    "docs, target, target_names = load_data_for_doc_class(data_dir, 10)\n",
    "print('Loaded')"
   ]
  },
  {
   "cell_type": "code",
   "execution_count": 10,
   "metadata": {
    "collapsed": false
   },
   "outputs": [
    {
     "data": {
      "text/plain": [
       "[u'offmychest',\n",
       " u'depression',\n",
       " u'stopdrinking',\n",
       " u'GetMotivated',\n",
       " u'SuicideWatch']"
      ]
     },
     "execution_count": 10,
     "metadata": {},
     "output_type": "execute_result"
    }
   ],
   "source": [
    "target_names"
   ]
  },
  {
   "cell_type": "code",
   "execution_count": 7,
   "metadata": {
    "collapsed": false
   },
   "outputs": [
    {
     "data": {
      "text/plain": [
       "717626"
      ]
     },
     "execution_count": 7,
     "metadata": {},
     "output_type": "execute_result"
    }
   ],
   "source": [
    "len(sentences)"
   ]
  },
  {
   "cell_type": "code",
   "execution_count": null,
   "metadata": {
    "collapsed": true
   },
   "outputs": [],
   "source": [
    "count_vect = CountVectorizer()\n",
    "X_train_counts = count_vect.fit_transform(sentences)\n",
    "X_train_counts.shape"
   ]
  },
  {
   "cell_type": "code",
   "execution_count": 3,
   "metadata": {
    "collapsed": false
   },
   "outputs": [
    {
     "ename": "ImportError",
     "evalue": "Please install pyemd Python package to compute WMD.",
     "output_type": "error",
     "traceback": [
      "\u001b[0;31m---------------------------------------------------------------------------\u001b[0m",
      "\u001b[0;31mImportError\u001b[0m                               Traceback (most recent call last)",
      "\u001b[0;32m<ipython-input-3-a1d2398cf91c>\u001b[0m in \u001b[0;36m<module>\u001b[0;34m()\u001b[0m\n\u001b[1;32m      5\u001b[0m \u001b[0;34m\u001b[0m\u001b[0m\n\u001b[1;32m      6\u001b[0m \u001b[0;34m\u001b[0m\u001b[0m\n\u001b[0;32m----> 7\u001b[0;31m \u001b[0mmodel\u001b[0m\u001b[0;34m.\u001b[0m\u001b[0mwmdistance\u001b[0m\u001b[0;34m(\u001b[0m\u001b[0;34m[\u001b[0m\u001b[0;34m'I'\u001b[0m\u001b[0;34m,\u001b[0m\u001b[0;34m'am'\u001b[0m\u001b[0;34m,\u001b[0m\u001b[0;34m'sick'\u001b[0m\u001b[0;34m]\u001b[0m\u001b[0;34m,\u001b[0m \u001b[0;34m[\u001b[0m\u001b[0;34m'I'\u001b[0m\u001b[0;34m,\u001b[0m\u001b[0;34m'have'\u001b[0m\u001b[0;34m,\u001b[0m\u001b[0;34m'mental'\u001b[0m\u001b[0;34m,\u001b[0m\u001b[0;34m'problems'\u001b[0m\u001b[0;34m]\u001b[0m\u001b[0;34m)\u001b[0m\u001b[0;34m\u001b[0m\u001b[0m\n\u001b[0m\u001b[1;32m      8\u001b[0m \u001b[0;34m\u001b[0m\u001b[0m\n",
      "\u001b[0;32m/home/jihyunp/anaconda/envs/py27/lib/python2.7/site-packages/gensim-0.13.1-py2.7-linux-x86_64.egg/gensim/models/word2vec.pyc\u001b[0m in \u001b[0;36mwmdistance\u001b[0;34m(self, document1, document2, WCD, RWMD)\u001b[0m\n\u001b[1;32m   1277\u001b[0m \u001b[0;34m\u001b[0m\u001b[0m\n\u001b[1;32m   1278\u001b[0m         \u001b[0;32mif\u001b[0m \u001b[0;32mnot\u001b[0m \u001b[0mPYEMD_EXT\u001b[0m\u001b[0;34m:\u001b[0m\u001b[0;34m\u001b[0m\u001b[0m\n\u001b[0;32m-> 1279\u001b[0;31m             \u001b[0;32mraise\u001b[0m \u001b[0mImportError\u001b[0m\u001b[0;34m(\u001b[0m\u001b[0;34m\"Please install pyemd Python package to compute WMD.\"\u001b[0m\u001b[0;34m)\u001b[0m\u001b[0;34m\u001b[0m\u001b[0m\n\u001b[0m\u001b[1;32m   1280\u001b[0m \u001b[0;34m\u001b[0m\u001b[0m\n\u001b[1;32m   1281\u001b[0m         \u001b[0;31m# Remove out-of-vocabulary words.\u001b[0m\u001b[0;34m\u001b[0m\u001b[0;34m\u001b[0m\u001b[0m\n",
      "\u001b[0;31mImportError\u001b[0m: Please install pyemd Python package to compute WMD."
     ]
    }
   ],
   "source": [
    "from nltk.corpus import stopwords\n",
    "from nltk import download\n",
    "\n",
    "stop_words = stopwords.words('english')\n",
    "\n"
   ]
  },
  {
   "cell_type": "code",
   "execution_count": 3,
   "metadata": {
    "collapsed": false
   },
   "outputs": [
    {
     "data": {
      "text/plain": [
       "41.04816484285909"
      ]
     },
     "execution_count": 3,
     "metadata": {},
     "output_type": "execute_result"
    }
   ],
   "source": [
    "\n",
    "model.wmdistance(['I','am','sick'], ['I','have','mental','problems'])\n",
    "model.wmdistance(['I','am','happy'], ['I','have','mental','problems'])\n",
    "\n"
   ]
  },
  {
   "cell_type": "code",
   "execution_count": null,
   "metadata": {
    "collapsed": true
   },
   "outputs": [],
   "source": []
  }
 ],
 "metadata": {
  "kernelspec": {
   "display_name": "Python 2",
   "language": "python",
   "name": "python2"
  },
  "language_info": {
   "codemirror_mode": {
    "name": "ipython",
    "version": 2
   },
   "file_extension": ".py",
   "mimetype": "text/x-python",
   "name": "python",
   "nbconvert_exporter": "python",
   "pygments_lexer": "ipython2",
   "version": "2.7.12"
  }
 },
 "nbformat": 4,
 "nbformat_minor": 0
}
